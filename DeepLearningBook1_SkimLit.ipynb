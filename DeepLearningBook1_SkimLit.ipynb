{
  "nbformat": 4,
  "nbformat_minor": 0,
  "metadata": {
    "colab": {
      "name": "DeepLearningBook1-SkimLit.ipynb",
      "provenance": [],
      "collapsed_sections": [
        "0Hk77zWNkQpK",
        "cNWHpv_cmqyX",
        "Q9ODFXfm2m9h",
        "boLmC9O9ALx7",
        "wanWMilg-f3a",
        "2d32tch7vVpI",
        "FkpYeqcowRcI",
        "FhtBD0TGyru9",
        "LwCcvd6SGGCz",
        "fft9YAM7GSnm",
        "M-6V60I0Hgkf",
        "GXrUz7GHIa3w",
        "fH6uR6EY-sjj",
        "frSFQn5iBfFr",
        "tyII34XlCObT",
        "Cs6U53rrDlz0",
        "NMMeYmwHY23r",
        "YD40uWDQbKmz",
        "5-imqdRBGT8y",
        "eiK4NfbVJ2_-",
        "K65qxZt0KonS",
        "S86z32EEvU0g",
        "aw7HxLspxw0a"
      ],
      "toc_visible": true,
      "authorship_tag": "ABX9TyNhA431Ev+bqgWR7AzAgHnI",
      "include_colab_link": true
    },
    "kernelspec": {
      "name": "python3",
      "display_name": "Python 3"
    },
    "language_info": {
      "name": "python"
    }
  },
  "cells": [
    {
      "cell_type": "markdown",
      "metadata": {
        "id": "view-in-github",
        "colab_type": "text"
      },
      "source": [
        "<a href=\"https://colab.research.google.com/github/mthakur08/Deep_Learning_Skim_Lit/blob/main/DeepLearningBook1_SkimLit.ipynb\" target=\"_parent\"><img src=\"https://colab.research.google.com/assets/colab-badge.svg\" alt=\"Open In Colab\"/></a>"
      ]
    },
    {
      "cell_type": "markdown",
      "source": [
        "# Milestone Project 2 - Skimlit\n",
        "\n",
        "\n",
        "*   The purpose of this project is to make reading medical abstracts \n",
        "easier (the source of the dataset is available : https://arxiv.org/abs/1710.06071).\n",
        "*   And reading through the paper above, we see that the model architecture that they were using to get the best results is available here: https://arxiv.org/abs/1612.05251\n",
        "*   📚 **Resource** If you want to see the ground truth for this note book (with lots of diagrams and annotations) see the GitHub: https://github.com/mrdbourke/tensorflow-deep-learning.\n",
        "                         "
      ],
      "metadata": {
        "id": "gqmlJrHkehRN"
      }
    },
    {
      "cell_type": "markdown",
      "source": [
        "## Confirm access to a GPU\n"
      ],
      "metadata": {
        "id": "0Hk77zWNkQpK"
      }
    },
    {
      "cell_type": "code",
      "source": [
        "!nvidia-smi -L"
      ],
      "metadata": {
        "colab": {
          "base_uri": "https://localhost:8080/"
        },
        "id": "rvDvyoJplh2A",
        "outputId": "b8a4e5d9-fa86-4ca4-a1d9-3b0da0ede7a2"
      },
      "execution_count": 245,
      "outputs": [
        {
          "output_type": "stream",
          "name": "stdout",
          "text": [
            "NVIDIA-SMI has failed because it couldn't communicate with the NVIDIA driver. Make sure that the latest NVIDIA driver is installed and running.\n",
            "\n"
          ]
        }
      ]
    },
    {
      "cell_type": "markdown",
      "source": [
        "## Get Data\n",
        "\n",
        "> Since we'll be replicating the paper above (PubMed 200K RCT), let's download the dataset they used\n",
        "\n",
        "> We can do so from the author's GitHub: https://github.com/Franck-Dernoncourt/pubmed-rct"
      ],
      "metadata": {
        "id": "cNWHpv_cmqyX"
      }
    },
    {
      "cell_type": "code",
      "source": [
        "!git clone https://github.com/Franck-Dernoncourt/pubmed-rct\n",
        "!ls pubmed-rct"
      ],
      "metadata": {
        "colab": {
          "base_uri": "https://localhost:8080/"
        },
        "id": "tOvEhJ4xn1lF",
        "outputId": "e0e99b14-8d1e-47ac-cd9f-f62bef5c89ed"
      },
      "execution_count": 246,
      "outputs": [
        {
          "output_type": "stream",
          "name": "stdout",
          "text": [
            "fatal: destination path 'pubmed-rct' already exists and is not an empty directory.\n",
            "PubMed_200k_RCT\n",
            "PubMed_200k_RCT_numbers_replaced_with_at_sign\n",
            "PubMed_20k_RCT\n",
            "PubMed_20k_RCT_numbers_replaced_with_at_sign\n",
            "README.md\n"
          ]
        }
      ]
    },
    {
      "cell_type": "code",
      "source": [
        "# Check what files are in the PubMed-20K dataset\n",
        "!ls pubmed-rct/PubMed_20k_RCT_numbers_replaced_with_at_sign/"
      ],
      "metadata": {
        "colab": {
          "base_uri": "https://localhost:8080/"
        },
        "id": "7z33gAtUqeFK",
        "outputId": "95ea2fb6-0f78-4f08-f154-781487c6e560"
      },
      "execution_count": 247,
      "outputs": [
        {
          "output_type": "stream",
          "name": "stdout",
          "text": [
            "dev.txt  test.txt  train.txt\n"
          ]
        }
      ]
    },
    {
      "cell_type": "code",
      "source": [
        "#Start our experiments using the 20K dataset with numbers replaced by the at sign\n",
        "data_dir = \"/content/pubmed-rct/PubMed_20k_RCT_numbers_replaced_with_at_sign/\""
      ],
      "metadata": {
        "id": "nRVj-K71sEtO"
      },
      "execution_count": 248,
      "outputs": []
    },
    {
      "cell_type": "code",
      "source": [
        "#Check all of the filenames inthe target directory\n",
        "import os\n",
        "filenames = [data_dir + filename for filename in os.listdir(data_dir)]\n",
        "filenames"
      ],
      "metadata": {
        "colab": {
          "base_uri": "https://localhost:8080/"
        },
        "id": "PapMkrPCs0D5",
        "outputId": "a2ca3144-63fd-45cc-bfa7-9d38fe7f260c"
      },
      "execution_count": 249,
      "outputs": [
        {
          "output_type": "execute_result",
          "data": {
            "text/plain": [
              "['/content/pubmed-rct/PubMed_20k_RCT_numbers_replaced_with_at_sign/dev.txt',\n",
              " '/content/pubmed-rct/PubMed_20k_RCT_numbers_replaced_with_at_sign/test.txt',\n",
              " '/content/pubmed-rct/PubMed_20k_RCT_numbers_replaced_with_at_sign/train.txt']"
            ]
          },
          "metadata": {},
          "execution_count": 249
        }
      ]
    },
    {
      "cell_type": "code",
      "source": [
        "# Create a function to read the lines of a document\n",
        "\n",
        "def get_lines(filename):\n",
        "  \"\"\"\n",
        "  Reads a filename (a text filename) and returns the lines of a text as a list.\n",
        "\n",
        "  Args:\n",
        "    filename: a string containing he target filepath.\n",
        "\n",
        "  Returns:\n",
        "    A list of strings with one string per line from the target filename.\n",
        "  \"\"\"    \n",
        "  with open(filename, \"r\") as f:\n",
        "      return f.readlines() #read how to read text files in python\n"
      ],
      "metadata": {
        "id": "QZraFJgvunPV"
      },
      "execution_count": 250,
      "outputs": []
    },
    {
      "cell_type": "code",
      "source": [
        "# Let's read in the training lines\n",
        "train_lines = get_lines(data_dir+\"train.txt\") #read the lines within the training file\n",
        "train_lines[:20]"
      ],
      "metadata": {
        "colab": {
          "base_uri": "https://localhost:8080/"
        },
        "id": "VQWF-DJdwWna",
        "outputId": "978f8991-09ea-4520-d976-4c54d1bb3894"
      },
      "execution_count": 251,
      "outputs": [
        {
          "output_type": "execute_result",
          "data": {
            "text/plain": [
              "['###24293578\\n',\n",
              " 'OBJECTIVE\\tTo investigate the efficacy of @ weeks of daily low-dose oral prednisolone in improving pain , mobility , and systemic low-grade inflammation in the short term and whether the effect would be sustained at @ weeks in older adults with moderate to severe knee osteoarthritis ( OA ) .\\n',\n",
              " 'METHODS\\tA total of @ patients with primary knee OA were randomized @:@ ; @ received @ mg/day of prednisolone and @ received placebo for @ weeks .\\n',\n",
              " 'METHODS\\tOutcome measures included pain reduction and improvement in function scores and systemic inflammation markers .\\n',\n",
              " 'METHODS\\tPain was assessed using the visual analog pain scale ( @-@ mm ) .\\n',\n",
              " 'METHODS\\tSecondary outcome measures included the Western Ontario and McMaster Universities Osteoarthritis Index scores , patient global assessment ( PGA ) of the severity of knee OA , and @-min walk distance ( @MWD ) .\\n',\n",
              " 'METHODS\\tSerum levels of interleukin @ ( IL-@ ) , IL-@ , tumor necrosis factor ( TNF ) - , and high-sensitivity C-reactive protein ( hsCRP ) were measured .\\n',\n",
              " 'RESULTS\\tThere was a clinically relevant reduction in the intervention group compared to the placebo group for knee pain , physical function , PGA , and @MWD at @ weeks .\\n',\n",
              " 'RESULTS\\tThe mean difference between treatment arms ( @ % CI ) was @ ( @-@ @ ) , p < @ ; @ ( @-@ @ ) , p < @ ; @ ( @-@ @ ) , p < @ ; and @ ( @-@ @ ) , p < @ , respectively .\\n',\n",
              " 'RESULTS\\tFurther , there was a clinically relevant reduction in the serum levels of IL-@ , IL-@ , TNF - , and hsCRP at @ weeks in the intervention group when compared to the placebo group .\\n',\n",
              " 'RESULTS\\tThese differences remained significant at @ weeks .\\n',\n",
              " 'RESULTS\\tThe Outcome Measures in Rheumatology Clinical Trials-Osteoarthritis Research Society International responder rate was @ % in the intervention group and @ % in the placebo group ( p < @ ) .\\n',\n",
              " 'CONCLUSIONS\\tLow-dose oral prednisolone had both a short-term and a longer sustained effect resulting in less knee pain , better physical function , and attenuation of systemic inflammation in older patients with knee OA ( ClinicalTrials.gov identifier NCT@ ) .\\n',\n",
              " '\\n',\n",
              " '###24854809\\n',\n",
              " 'BACKGROUND\\tEmotional eating is associated with overeating and the development of obesity .\\n',\n",
              " 'BACKGROUND\\tYet , empirical evidence for individual ( trait ) differences in emotional eating and cognitive mechanisms that contribute to eating during sad mood remain equivocal .\\n',\n",
              " 'OBJECTIVE\\tThe aim of this study was to test if attention bias for food moderates the effect of self-reported emotional eating during sad mood ( vs neutral mood ) on actual food intake .\\n',\n",
              " 'OBJECTIVE\\tIt was expected that emotional eating is predictive of elevated attention for food and higher food intake after an experimentally induced sad mood and that attentional maintenance on food predicts food intake during a sad versus a neutral mood .\\n',\n",
              " 'METHODS\\tParticipants ( N = @ ) were randomly assigned to one of the two experimental mood induction conditions ( sad/neutral ) .\\n']"
            ]
          },
          "metadata": {},
          "execution_count": 251
        }
      ]
    },
    {
      "cell_type": "markdown",
      "source": [
        "##Let's plan our pre-processing"
      ],
      "metadata": {
        "id": "Q9ODFXfm2m9h"
      }
    },
    {
      "cell_type": "code",
      "source": [
        "#Check the length of the data\n",
        "len(train_lines)"
      ],
      "metadata": {
        "colab": {
          "base_uri": "https://localhost:8080/"
        },
        "id": "cKtifwXuyRcG",
        "outputId": "f972ccab-a3f0-48ce-a340-03b5371484bb"
      },
      "execution_count": 252,
      "outputs": [
        {
          "output_type": "execute_result",
          "data": {
            "text/plain": [
              "210040"
            ]
          },
          "metadata": {},
          "execution_count": 252
        }
      ]
    },
    {
      "cell_type": "markdown",
      "source": [
        "\n",
        "\n",
        "*   Let's think about how we want our data to look...\n",
        "*   How I think out data would be best represented...\n",
        "\n",
        "⭐ We want to retrun a _**list of dictionaries**_ which is compatible with _**pandas**_:\n",
        "\n",
        "```\n",
        "[{'line number': 0,\n",
        "  'target': \"BACKGROUND\"\n",
        "  'text': \"Emotional eating is associated with overeating and the development of obesity .\\n\",\n",
        "  'total_lines': 11}]\n",
        "```\n",
        "\n"
      ],
      "metadata": {
        "id": "YcNWf5fCyYlv"
      }
    },
    {
      "cell_type": "markdown",
      "source": [
        "###Lets write a function which turn each of our data into the above format so we can continue to progress"
      ],
      "metadata": {
        "id": "boLmC9O9ALx7"
      }
    },
    {
      "cell_type": "code",
      "source": [
        "def preprocess_text_with_line_numbers(filename):\n",
        "  \"\"\"\n",
        "  Returns a list of dictionaries of abstract line data.\n",
        "\n",
        "  Takes in filename, reads its contents and sorts through each line,\n",
        "  extracting things like target label, the text of the sentence,\n",
        "  how many sentences are in the current abstract and what sentence\n",
        "  number the target line is.\n",
        "  \"\"\"\n",
        "  input_lines = get_lines(filename) #get all the lines from filename\n",
        "  abstract_lines = \"\" # create an empty abstract\n",
        "  abstract_samples = [] # create an empty list of abstracts\n",
        "\n",
        "  #Loop through each lines in the target file\n",
        "  for line in input_lines:\n",
        "    if line.startswith(\"###\"): #check to see if the line is an ID line\n",
        "      abstract_id = line\n",
        "      abstract_lines = \"\" #reset the abstract string if the line is an ID line\n",
        "    elif line.isspace():\n",
        "      abstract_line_split = abstract_lines.splitlines() #split abstract into separate lines\n",
        "\n",
        "      #iterate through each line in a single abstract and count them at the same time\n",
        "      for abstract_line_number, abstract_line in enumerate(abstract_line_split):\n",
        "        line_data = {} #create an empty dictionary for each line\n",
        "        target_text_split = abstract_line.split(\"\\t\") #split target label from text\n",
        "        line_data[\"target\"] = target_text_split[0] #get target label\n",
        "        line_data[\"text\"] = target_text_split[1].lower() #get target text and lower case\n",
        "        line_data[\"line_number\"] = abstract_line_number #what number does the line appear in the abstract\n",
        "        line_data[\"total_lines\"] = len(abstract_line_split) - 1 #how many total lines are there (we want to start from 0 - thats why we subtract 1)\n",
        "        abstract_samples.append(line_data)#add line data dictionnary to abstract_samples list so we can return it\n",
        "    else: #if the above conditions aren't fulfilled, the line contains a labelled sentence\n",
        "      abstract_lines += line\n",
        "  \n",
        "  return abstract_samples\n",
        "\n",
        "\n"
      ],
      "metadata": {
        "id": "4CgS_oB1x1SA"
      },
      "execution_count": 253,
      "outputs": []
    },
    {
      "cell_type": "markdown",
      "source": [
        "## Preprocess our Data"
      ],
      "metadata": {
        "id": "wanWMilg-f3a"
      }
    },
    {
      "cell_type": "code",
      "source": [
        "#Get data from file and preprocess it\n",
        "%%time\n",
        "train_samples = preprocess_text_with_line_numbers(data_dir + \"train.txt\")\n",
        "val_samples = preprocess_text_with_line_numbers(data_dir + \"dev.txt\")#dev is another name for validation\n",
        "test_samples = preprocess_text_with_line_numbers(data_dir + \"test.txt\")\n",
        "print(len(train_samples), len(val_samples), len(test_samples))"
      ],
      "metadata": {
        "colab": {
          "base_uri": "https://localhost:8080/"
        },
        "id": "i8Y4h_fZ6N0F",
        "outputId": "248465f5-5ec3-4dbe-f7d1-edf742de73cd"
      },
      "execution_count": 254,
      "outputs": [
        {
          "output_type": "stream",
          "name": "stdout",
          "text": [
            "180040 30212 30135\n",
            "CPU times: user 752 ms, sys: 140 ms, total: 892 ms\n",
            "Wall time: 908 ms\n"
          ]
        }
      ]
    },
    {
      "cell_type": "code",
      "source": [
        "# chech the first few abstracts of our trainingdata\n",
        "train_samples[:10]"
      ],
      "metadata": {
        "colab": {
          "base_uri": "https://localhost:8080/"
        },
        "id": "o17l1VEK7CjE",
        "outputId": "680ab78b-53cc-4878-f3c9-d6903b487e75"
      },
      "execution_count": 255,
      "outputs": [
        {
          "output_type": "execute_result",
          "data": {
            "text/plain": [
              "[{'line_number': 0,\n",
              "  'target': 'OBJECTIVE',\n",
              "  'text': 'to investigate the efficacy of @ weeks of daily low-dose oral prednisolone in improving pain , mobility , and systemic low-grade inflammation in the short term and whether the effect would be sustained at @ weeks in older adults with moderate to severe knee osteoarthritis ( oa ) .',\n",
              "  'total_lines': 11},\n",
              " {'line_number': 1,\n",
              "  'target': 'METHODS',\n",
              "  'text': 'a total of @ patients with primary knee oa were randomized @:@ ; @ received @ mg/day of prednisolone and @ received placebo for @ weeks .',\n",
              "  'total_lines': 11},\n",
              " {'line_number': 2,\n",
              "  'target': 'METHODS',\n",
              "  'text': 'outcome measures included pain reduction and improvement in function scores and systemic inflammation markers .',\n",
              "  'total_lines': 11},\n",
              " {'line_number': 3,\n",
              "  'target': 'METHODS',\n",
              "  'text': 'pain was assessed using the visual analog pain scale ( @-@ mm ) .',\n",
              "  'total_lines': 11},\n",
              " {'line_number': 4,\n",
              "  'target': 'METHODS',\n",
              "  'text': 'secondary outcome measures included the western ontario and mcmaster universities osteoarthritis index scores , patient global assessment ( pga ) of the severity of knee oa , and @-min walk distance ( @mwd ) .',\n",
              "  'total_lines': 11},\n",
              " {'line_number': 5,\n",
              "  'target': 'METHODS',\n",
              "  'text': 'serum levels of interleukin @ ( il-@ ) , il-@ , tumor necrosis factor ( tnf ) - , and high-sensitivity c-reactive protein ( hscrp ) were measured .',\n",
              "  'total_lines': 11},\n",
              " {'line_number': 6,\n",
              "  'target': 'RESULTS',\n",
              "  'text': 'there was a clinically relevant reduction in the intervention group compared to the placebo group for knee pain , physical function , pga , and @mwd at @ weeks .',\n",
              "  'total_lines': 11},\n",
              " {'line_number': 7,\n",
              "  'target': 'RESULTS',\n",
              "  'text': 'the mean difference between treatment arms ( @ % ci ) was @ ( @-@ @ ) , p < @ ; @ ( @-@ @ ) , p < @ ; @ ( @-@ @ ) , p < @ ; and @ ( @-@ @ ) , p < @ , respectively .',\n",
              "  'total_lines': 11},\n",
              " {'line_number': 8,\n",
              "  'target': 'RESULTS',\n",
              "  'text': 'further , there was a clinically relevant reduction in the serum levels of il-@ , il-@ , tnf - , and hscrp at @ weeks in the intervention group when compared to the placebo group .',\n",
              "  'total_lines': 11},\n",
              " {'line_number': 9,\n",
              "  'target': 'RESULTS',\n",
              "  'text': 'these differences remained significant at @ weeks .',\n",
              "  'total_lines': 11}]"
            ]
          },
          "metadata": {},
          "execution_count": 255
        }
      ]
    },
    {
      "cell_type": "markdown",
      "source": [
        "### Visualize the data as a Pandas DataFrame\n",
        "\n"
      ],
      "metadata": {
        "id": "2d32tch7vVpI"
      }
    },
    {
      "cell_type": "code",
      "source": [
        "#Turn our dictionary into pandas dataframe to visualize it\n",
        "import pandas as pd\n",
        "train_df = pd.DataFrame(train_samples)\n",
        "val_df = pd.DataFrame(val_samples)\n",
        "test_df = pd.DataFrame(test_samples)\n",
        "train_df.head(14)"
      ],
      "metadata": {
        "colab": {
          "base_uri": "https://localhost:8080/",
          "height": 1000
        },
        "id": "83UteyKg9Bw8",
        "outputId": "2e45ef2d-5b50-4015-ba3e-41279b83d9de"
      },
      "execution_count": 256,
      "outputs": [
        {
          "output_type": "execute_result",
          "data": {
            "text/plain": [
              "         target                                               text  \\\n",
              "0     OBJECTIVE  to investigate the efficacy of @ weeks of dail...   \n",
              "1       METHODS  a total of @ patients with primary knee oa wer...   \n",
              "2       METHODS  outcome measures included pain reduction and i...   \n",
              "3       METHODS  pain was assessed using the visual analog pain...   \n",
              "4       METHODS  secondary outcome measures included the wester...   \n",
              "5       METHODS  serum levels of interleukin @ ( il-@ ) , il-@ ...   \n",
              "6       RESULTS  there was a clinically relevant reduction in t...   \n",
              "7       RESULTS  the mean difference between treatment arms ( @...   \n",
              "8       RESULTS  further , there was a clinically relevant redu...   \n",
              "9       RESULTS  these differences remained significant at @ we...   \n",
              "10      RESULTS  the outcome measures in rheumatology clinical ...   \n",
              "11  CONCLUSIONS  low-dose oral prednisolone had both a short-te...   \n",
              "12   BACKGROUND  emotional eating is associated with overeating...   \n",
              "13   BACKGROUND  yet , empirical evidence for individual ( trai...   \n",
              "\n",
              "    line_number  total_lines  \n",
              "0             0           11  \n",
              "1             1           11  \n",
              "2             2           11  \n",
              "3             3           11  \n",
              "4             4           11  \n",
              "5             5           11  \n",
              "6             6           11  \n",
              "7             7           11  \n",
              "8             8           11  \n",
              "9             9           11  \n",
              "10           10           11  \n",
              "11           11           11  \n",
              "12            0           10  \n",
              "13            1           10  "
            ],
            "text/html": [
              "\n",
              "  <div id=\"df-1e44c5c2-462e-4651-97fe-0eb0c31bf4ba\">\n",
              "    <div class=\"colab-df-container\">\n",
              "      <div>\n",
              "<style scoped>\n",
              "    .dataframe tbody tr th:only-of-type {\n",
              "        vertical-align: middle;\n",
              "    }\n",
              "\n",
              "    .dataframe tbody tr th {\n",
              "        vertical-align: top;\n",
              "    }\n",
              "\n",
              "    .dataframe thead th {\n",
              "        text-align: right;\n",
              "    }\n",
              "</style>\n",
              "<table border=\"1\" class=\"dataframe\">\n",
              "  <thead>\n",
              "    <tr style=\"text-align: right;\">\n",
              "      <th></th>\n",
              "      <th>target</th>\n",
              "      <th>text</th>\n",
              "      <th>line_number</th>\n",
              "      <th>total_lines</th>\n",
              "    </tr>\n",
              "  </thead>\n",
              "  <tbody>\n",
              "    <tr>\n",
              "      <th>0</th>\n",
              "      <td>OBJECTIVE</td>\n",
              "      <td>to investigate the efficacy of @ weeks of dail...</td>\n",
              "      <td>0</td>\n",
              "      <td>11</td>\n",
              "    </tr>\n",
              "    <tr>\n",
              "      <th>1</th>\n",
              "      <td>METHODS</td>\n",
              "      <td>a total of @ patients with primary knee oa wer...</td>\n",
              "      <td>1</td>\n",
              "      <td>11</td>\n",
              "    </tr>\n",
              "    <tr>\n",
              "      <th>2</th>\n",
              "      <td>METHODS</td>\n",
              "      <td>outcome measures included pain reduction and i...</td>\n",
              "      <td>2</td>\n",
              "      <td>11</td>\n",
              "    </tr>\n",
              "    <tr>\n",
              "      <th>3</th>\n",
              "      <td>METHODS</td>\n",
              "      <td>pain was assessed using the visual analog pain...</td>\n",
              "      <td>3</td>\n",
              "      <td>11</td>\n",
              "    </tr>\n",
              "    <tr>\n",
              "      <th>4</th>\n",
              "      <td>METHODS</td>\n",
              "      <td>secondary outcome measures included the wester...</td>\n",
              "      <td>4</td>\n",
              "      <td>11</td>\n",
              "    </tr>\n",
              "    <tr>\n",
              "      <th>5</th>\n",
              "      <td>METHODS</td>\n",
              "      <td>serum levels of interleukin @ ( il-@ ) , il-@ ...</td>\n",
              "      <td>5</td>\n",
              "      <td>11</td>\n",
              "    </tr>\n",
              "    <tr>\n",
              "      <th>6</th>\n",
              "      <td>RESULTS</td>\n",
              "      <td>there was a clinically relevant reduction in t...</td>\n",
              "      <td>6</td>\n",
              "      <td>11</td>\n",
              "    </tr>\n",
              "    <tr>\n",
              "      <th>7</th>\n",
              "      <td>RESULTS</td>\n",
              "      <td>the mean difference between treatment arms ( @...</td>\n",
              "      <td>7</td>\n",
              "      <td>11</td>\n",
              "    </tr>\n",
              "    <tr>\n",
              "      <th>8</th>\n",
              "      <td>RESULTS</td>\n",
              "      <td>further , there was a clinically relevant redu...</td>\n",
              "      <td>8</td>\n",
              "      <td>11</td>\n",
              "    </tr>\n",
              "    <tr>\n",
              "      <th>9</th>\n",
              "      <td>RESULTS</td>\n",
              "      <td>these differences remained significant at @ we...</td>\n",
              "      <td>9</td>\n",
              "      <td>11</td>\n",
              "    </tr>\n",
              "    <tr>\n",
              "      <th>10</th>\n",
              "      <td>RESULTS</td>\n",
              "      <td>the outcome measures in rheumatology clinical ...</td>\n",
              "      <td>10</td>\n",
              "      <td>11</td>\n",
              "    </tr>\n",
              "    <tr>\n",
              "      <th>11</th>\n",
              "      <td>CONCLUSIONS</td>\n",
              "      <td>low-dose oral prednisolone had both a short-te...</td>\n",
              "      <td>11</td>\n",
              "      <td>11</td>\n",
              "    </tr>\n",
              "    <tr>\n",
              "      <th>12</th>\n",
              "      <td>BACKGROUND</td>\n",
              "      <td>emotional eating is associated with overeating...</td>\n",
              "      <td>0</td>\n",
              "      <td>10</td>\n",
              "    </tr>\n",
              "    <tr>\n",
              "      <th>13</th>\n",
              "      <td>BACKGROUND</td>\n",
              "      <td>yet , empirical evidence for individual ( trai...</td>\n",
              "      <td>1</td>\n",
              "      <td>10</td>\n",
              "    </tr>\n",
              "  </tbody>\n",
              "</table>\n",
              "</div>\n",
              "      <button class=\"colab-df-convert\" onclick=\"convertToInteractive('df-1e44c5c2-462e-4651-97fe-0eb0c31bf4ba')\"\n",
              "              title=\"Convert this dataframe to an interactive table.\"\n",
              "              style=\"display:none;\">\n",
              "        \n",
              "  <svg xmlns=\"http://www.w3.org/2000/svg\" height=\"24px\"viewBox=\"0 0 24 24\"\n",
              "       width=\"24px\">\n",
              "    <path d=\"M0 0h24v24H0V0z\" fill=\"none\"/>\n",
              "    <path d=\"M18.56 5.44l.94 2.06.94-2.06 2.06-.94-2.06-.94-.94-2.06-.94 2.06-2.06.94zm-11 1L8.5 8.5l.94-2.06 2.06-.94-2.06-.94L8.5 2.5l-.94 2.06-2.06.94zm10 10l.94 2.06.94-2.06 2.06-.94-2.06-.94-.94-2.06-.94 2.06-2.06.94z\"/><path d=\"M17.41 7.96l-1.37-1.37c-.4-.4-.92-.59-1.43-.59-.52 0-1.04.2-1.43.59L10.3 9.45l-7.72 7.72c-.78.78-.78 2.05 0 2.83L4 21.41c.39.39.9.59 1.41.59.51 0 1.02-.2 1.41-.59l7.78-7.78 2.81-2.81c.8-.78.8-2.07 0-2.86zM5.41 20L4 18.59l7.72-7.72 1.47 1.35L5.41 20z\"/>\n",
              "  </svg>\n",
              "      </button>\n",
              "      \n",
              "  <style>\n",
              "    .colab-df-container {\n",
              "      display:flex;\n",
              "      flex-wrap:wrap;\n",
              "      gap: 12px;\n",
              "    }\n",
              "\n",
              "    .colab-df-convert {\n",
              "      background-color: #E8F0FE;\n",
              "      border: none;\n",
              "      border-radius: 50%;\n",
              "      cursor: pointer;\n",
              "      display: none;\n",
              "      fill: #1967D2;\n",
              "      height: 32px;\n",
              "      padding: 0 0 0 0;\n",
              "      width: 32px;\n",
              "    }\n",
              "\n",
              "    .colab-df-convert:hover {\n",
              "      background-color: #E2EBFA;\n",
              "      box-shadow: 0px 1px 2px rgba(60, 64, 67, 0.3), 0px 1px 3px 1px rgba(60, 64, 67, 0.15);\n",
              "      fill: #174EA6;\n",
              "    }\n",
              "\n",
              "    [theme=dark] .colab-df-convert {\n",
              "      background-color: #3B4455;\n",
              "      fill: #D2E3FC;\n",
              "    }\n",
              "\n",
              "    [theme=dark] .colab-df-convert:hover {\n",
              "      background-color: #434B5C;\n",
              "      box-shadow: 0px 1px 3px 1px rgba(0, 0, 0, 0.15);\n",
              "      filter: drop-shadow(0px 1px 2px rgba(0, 0, 0, 0.3));\n",
              "      fill: #FFFFFF;\n",
              "    }\n",
              "  </style>\n",
              "\n",
              "      <script>\n",
              "        const buttonEl =\n",
              "          document.querySelector('#df-1e44c5c2-462e-4651-97fe-0eb0c31bf4ba button.colab-df-convert');\n",
              "        buttonEl.style.display =\n",
              "          google.colab.kernel.accessAllowed ? 'block' : 'none';\n",
              "\n",
              "        async function convertToInteractive(key) {\n",
              "          const element = document.querySelector('#df-1e44c5c2-462e-4651-97fe-0eb0c31bf4ba');\n",
              "          const dataTable =\n",
              "            await google.colab.kernel.invokeFunction('convertToInteractive',\n",
              "                                                     [key], {});\n",
              "          if (!dataTable) return;\n",
              "\n",
              "          const docLinkHtml = 'Like what you see? Visit the ' +\n",
              "            '<a target=\"_blank\" href=https://colab.research.google.com/notebooks/data_table.ipynb>data table notebook</a>'\n",
              "            + ' to learn more about interactive tables.';\n",
              "          element.innerHTML = '';\n",
              "          dataTable['output_type'] = 'display_data';\n",
              "          await google.colab.output.renderOutput(dataTable, element);\n",
              "          const docLink = document.createElement('div');\n",
              "          docLink.innerHTML = docLinkHtml;\n",
              "          element.appendChild(docLink);\n",
              "        }\n",
              "      </script>\n",
              "    </div>\n",
              "  </div>\n",
              "  "
            ]
          },
          "metadata": {},
          "execution_count": 256
        }
      ]
    },
    {
      "cell_type": "code",
      "source": [
        "#Check districution of labels\n",
        "train_df.target.value_counts()"
      ],
      "metadata": {
        "colab": {
          "base_uri": "https://localhost:8080/"
        },
        "id": "EEKQLpc6uD8j",
        "outputId": "85aeff25-c8fa-41e5-bce0-e0386ad6a8bc"
      },
      "execution_count": 257,
      "outputs": [
        {
          "output_type": "execute_result",
          "data": {
            "text/plain": [
              "METHODS        59353\n",
              "RESULTS        57953\n",
              "CONCLUSIONS    27168\n",
              "BACKGROUND     21727\n",
              "OBJECTIVE      13839\n",
              "Name: target, dtype: int64"
            ]
          },
          "metadata": {},
          "execution_count": 257
        }
      ]
    },
    {
      "cell_type": "code",
      "source": [
        "# Let's look at the length of different lines\n",
        "train_df.total_lines.plot.hist()"
      ],
      "metadata": {
        "colab": {
          "base_uri": "https://localhost:8080/",
          "height": 71
        },
        "id": "nHCggr0BvA0l",
        "outputId": "1499f242-897d-4833-d22a-902d30a85fe3"
      },
      "execution_count": 258,
      "outputs": [
        {
          "output_type": "execute_result",
          "data": {
            "text/plain": [
              "<matplotlib.axes._subplots.AxesSubplot at 0x7ff7843a64d0>"
            ]
          },
          "metadata": {},
          "execution_count": 258
        },
        {
          "output_type": "display_data",
          "data": {
            "text/plain": [
              "<Figure size 432x288 with 1 Axes>"
            ],
            "image/png": "[encoded data removed]"
          },
          "metadata": {
            "needs_background": "light"
          }
        }
      ]
    },
    {
      "cell_type": "markdown",
      "source": [
        "### Get lists of sentences"
      ],
      "metadata": {
        "id": "FkpYeqcowRcI"
      }
    },
    {
      "cell_type": "code",
      "source": [
        "# Convert abstract text lines into lists\n",
        "train_sentences = train_df[\"text\"].tolist()\n",
        "val_sentences = val_df[\"text\"].tolist()\n",
        "test_sentences = test_df[\"text\"].tolist()\n",
        "len(train_sentences), len(val_sentences), len(test_sentences)"
      ],
      "metadata": {
        "colab": {
          "base_uri": "https://localhost:8080/"
        },
        "id": "gDdqzs1ywUln",
        "outputId": "8bf9bc6f-2566-4b2b-b4e3-2c6edb099a45"
      },
      "execution_count": 259,
      "outputs": [
        {
          "output_type": "execute_result",
          "data": {
            "text/plain": [
              "(180040, 30212, 30135)"
            ]
          },
          "metadata": {},
          "execution_count": 259
        }
      ]
    },
    {
      "cell_type": "code",
      "source": [
        "# Check out 1st 10 samples of train_sentences\n",
        "train_sentences[:10]"
      ],
      "metadata": {
        "colab": {
          "base_uri": "https://localhost:8080/"
        },
        "id": "J1DSg_Bmx9ls",
        "outputId": "7d7407a7-254f-4818-a39c-af594dc61188"
      },
      "execution_count": 260,
      "outputs": [
        {
          "output_type": "execute_result",
          "data": {
            "text/plain": [
              "['to investigate the efficacy of @ weeks of daily low-dose oral prednisolone in improving pain , mobility , and systemic low-grade inflammation in the short term and whether the effect would be sustained at @ weeks in older adults with moderate to severe knee osteoarthritis ( oa ) .',\n",
              " 'a total of @ patients with primary knee oa were randomized @:@ ; @ received @ mg/day of prednisolone and @ received placebo for @ weeks .',\n",
              " 'outcome measures included pain reduction and improvement in function scores and systemic inflammation markers .',\n",
              " 'pain was assessed using the visual analog pain scale ( @-@ mm ) .',\n",
              " 'secondary outcome measures included the western ontario and mcmaster universities osteoarthritis index scores , patient global assessment ( pga ) of the severity of knee oa , and @-min walk distance ( @mwd ) .',\n",
              " 'serum levels of interleukin @ ( il-@ ) , il-@ , tumor necrosis factor ( tnf ) - , and high-sensitivity c-reactive protein ( hscrp ) were measured .',\n",
              " 'there was a clinically relevant reduction in the intervention group compared to the placebo group for knee pain , physical function , pga , and @mwd at @ weeks .',\n",
              " 'the mean difference between treatment arms ( @ % ci ) was @ ( @-@ @ ) , p < @ ; @ ( @-@ @ ) , p < @ ; @ ( @-@ @ ) , p < @ ; and @ ( @-@ @ ) , p < @ , respectively .',\n",
              " 'further , there was a clinically relevant reduction in the serum levels of il-@ , il-@ , tnf - , and hscrp at @ weeks in the intervention group when compared to the placebo group .',\n",
              " 'these differences remained significant at @ weeks .']"
            ]
          },
          "metadata": {},
          "execution_count": 260
        }
      ]
    },
    {
      "cell_type": "markdown",
      "source": [
        "### Turning out target labels into numbers"
      ],
      "metadata": {
        "id": "FhtBD0TGyru9"
      }
    },
    {
      "cell_type": "markdown",
      "source": [
        "###One Hot Encode"
      ],
      "metadata": {
        "id": "LwCcvd6SGGCz"
      }
    },
    {
      "cell_type": "code",
      "source": [
        "# One hot encode labels\n",
        "# sklearn has one hot encoder\n",
        "import sklearn\n",
        "from sklearn.preprocessing import OneHotEncoder\n",
        "#one_hot_encode\n",
        "one_hot_encoder = OneHotEncoder(sparse=False)\n",
        "#sparce = False forces it as a dense(not sparse) matrix which uses more memory (tensorflow doesn't run on sparse matrices)\n",
        "train_labels_one_hot = one_hot_encoder.fit_transform(train_df[\"target\"].to_numpy().reshape(-1,1))\n",
        "#you have to reshape to (-1,1) otherwise shape error \n",
        "#fit_transform does the one hot encoding; once you've fit_transform on train_labels, you can just transform the val_labels and test_labels\n",
        "#its not necessary to fit anymore, thats already done\n",
        "val_labels_one_hot = one_hot_encoder.transform(val_df[\"target\"].to_numpy().reshape(-1,1))\n",
        "test_labels_one_hot = one_hot_encoder.transform(test_df[\"target\"].to_numpy().reshape(-1,1))"
      ],
      "metadata": {
        "id": "5RWCkBQKyiZg"
      },
      "execution_count": 261,
      "outputs": []
    },
    {
      "cell_type": "code",
      "source": [
        "#Lets see how it looks\n",
        "train_labels_one_hot\n"
      ],
      "metadata": {
        "colab": {
          "base_uri": "https://localhost:8080/"
        },
        "id": "XaKaNRw_F1E9",
        "outputId": "22e3131f-8652-453c-bc10-c45c511502f9"
      },
      "execution_count": 262,
      "outputs": [
        {
          "output_type": "execute_result",
          "data": {
            "text/plain": [
              "array([[0., 0., 0., 1., 0.],\n",
              "       [0., 0., 1., 0., 0.],\n",
              "       [0., 0., 1., 0., 0.],\n",
              "       ...,\n",
              "       [0., 0., 0., 0., 1.],\n",
              "       [0., 1., 0., 0., 0.],\n",
              "       [0., 1., 0., 0., 0.]])"
            ]
          },
          "metadata": {},
          "execution_count": 262
        }
      ]
    },
    {
      "cell_type": "markdown",
      "source": [
        "###Label Encode labels"
      ],
      "metadata": {
        "id": "fft9YAM7GSnm"
      }
    },
    {
      "cell_type": "code",
      "source": [
        "#Extract labels (\"target\" columns) and encode them into integers\n",
        "from sklearn.preprocessing import LabelEncoder\n",
        "label_encoder = LabelEncoder()\n",
        "train_labels_encoded = label_encoder.fit_transform(train_df[\"target\"].to_numpy())\n",
        "val_labels_encoded = label_encoder.transform(val_df[\"target\"].to_numpy())\n",
        "test_labels_encoded = label_encoder.transform(test_df[\"target\"].to_numpy())"
      ],
      "metadata": {
        "id": "MV_0YEx7GXiq"
      },
      "execution_count": 263,
      "outputs": []
    },
    {
      "cell_type": "code",
      "source": [
        "#Let's see how this look likes\n",
        "train_labels_encoded"
      ],
      "metadata": {
        "colab": {
          "base_uri": "https://localhost:8080/"
        },
        "id": "k7m81UbBHE1M",
        "outputId": "eb83149c-8b49-41d4-8229-47ef4e30bdf4"
      },
      "execution_count": 264,
      "outputs": [
        {
          "output_type": "execute_result",
          "data": {
            "text/plain": [
              "array([3, 2, 2, ..., 4, 1, 1])"
            ]
          },
          "metadata": {},
          "execution_count": 264
        }
      ]
    },
    {
      "cell_type": "markdown",
      "source": [
        "### Get class names and map it back from LabelEncoder instance"
      ],
      "metadata": {
        "id": "M-6V60I0Hgkf"
      }
    },
    {
      "cell_type": "code",
      "source": [
        "num_classes = len(label_encoder.classes_)\n",
        "#dont forget the underscore after classes\n",
        "class_names = label_encoder.classes_\n",
        "num_classes, class_names"
      ],
      "metadata": {
        "colab": {
          "base_uri": "https://localhost:8080/"
        },
        "id": "4oOBm21-HzN5",
        "outputId": "6020277e-5c23-4c61-9afd-5144dcb2f1dc"
      },
      "execution_count": 265,
      "outputs": [
        {
          "output_type": "execute_result",
          "data": {
            "text/plain": [
              "(5, array(['BACKGROUND', 'CONCLUSIONS', 'METHODS', 'OBJECTIVE', 'RESULTS'],\n",
              "       dtype=object))"
            ]
          },
          "metadata": {},
          "execution_count": 265
        }
      ]
    },
    {
      "cell_type": "markdown",
      "source": [
        "##Model 0 (Baseline)\n",
        "*   Naive Bayes TF-IDF Explorer (used in text)\n",
        "*   A good/basic explanation of Bayes Theorem: https://www.youtube.com/watch?v=Q8l0Vip5YUw\n",
        "*   Formula for Naive Bayes theorem (conditional probability for A, given that B has occurred):\n",
        "\n",
        "\\begin{align}\n",
        "        P(A \\mid B) = \\frac{P(B \\mid A) \\, P(A)}{P(B)}\n",
        "    \\end{align}\n",
        "\n",
        "*   Go to Scikit learn Machine learning map: https://scikit-learn.org/stable/tutorial/machine_learning_map/index.html to help decide which baseline model to choose\n",
        "*   The following article explains tfidf: http://tfidf.com\n",
        "TF-IDF is a way to assesss the importance of a word look at frequency of occurence increased frequency \n",
        "means increased importance, but it is off set by the frequency accross more documents so that\n",
        "words like as, and, in, of, etc.  have diminished importance in the final  analysis\n",
        "*   The formula for TF-IDF:\n",
        "    1.   TF(t) = (Number of times term t appears in a document) / (Total number of terms in the document)\n",
        "    2.   IDF(t) = log_e(Total number of documents / Number of documents with term t in it)\n",
        "    3.   TF(t) * IDF(t)\n",
        "*   Check out Chris Albon website: https://chrisalbon.com"
      ],
      "metadata": {
        "id": "GXrUz7GHIa3w"
      }
    },
    {
      "cell_type": "code",
      "source": [
        "# TfidfVectorizer: Converts a collection of raw documents to a matrix of TF-IDF features\n",
        "from sklearn.feature_extraction.text import TfidfVectorizer\n",
        "# MultinomialNB is a Naive Bayes classifier for multinomial models.\n",
        "from sklearn.naive_bayes import MultinomialNB\n",
        "# The model is created within a pipeline from sklearn\n",
        "from sklearn.pipeline import Pipeline"
      ],
      "metadata": {
        "id": "nvVnCPjPId6y"
      },
      "execution_count": 266,
      "outputs": []
    },
    {
      "cell_type": "markdown",
      "source": [
        "###Create a SKLearn Pipeline and Fit the Data\n",
        "\n"
      ],
      "metadata": {
        "id": "fH6uR6EY-sjj"
      }
    },
    {
      "cell_type": "code",
      "source": [
        "# create the Pipeline\n",
        "model_0 = Pipeline([\n",
        "                    (\"tf-idf\", TfidfVectorizer()),\n",
        "                    (\"clf\", MultinomialNB())\n",
        "])\n",
        "# fit the pipeline to the training data\n",
        "#Multinomial currently does not accept one hot encoded, only encoded\n",
        "model_0.fit(X=train_sentences,\n",
        "            y=train_labels_encoded)\n"
      ],
      "metadata": {
        "colab": {
          "base_uri": "https://localhost:8080/"
        },
        "id": "UHcUFHf8-xyZ",
        "outputId": "af931615-0d2d-4c99-d87e-a2147ebebc55"
      },
      "execution_count": 267,
      "outputs": [
        {
          "output_type": "execute_result",
          "data": {
            "text/plain": [
              "Pipeline(steps=[('tf-idf', TfidfVectorizer()), ('clf', MultinomialNB())])"
            ]
          },
          "metadata": {},
          "execution_count": 267
        }
      ]
    },
    {
      "cell_type": "markdown",
      "source": [
        "###Score(Evaluate) our model"
      ],
      "metadata": {
        "id": "frSFQn5iBfFr"
      }
    },
    {
      "cell_type": "code",
      "source": [
        "# SKLearn uses score not evaluate as in Keras; returns accuracy as the metric\n",
        "print(f\"The accuracy of our model bassed on validation data is {round(model_0.score(X=val_sentences, y=val_labels_encoded),3)}.\")"
      ],
      "metadata": {
        "colab": {
          "base_uri": "https://localhost:8080/"
        },
        "id": "qDnphnvMBps1",
        "outputId": "4eeb88d7-f5bd-4c50-9ed1-ee6c67d65e2f"
      },
      "execution_count": 268,
      "outputs": [
        {
          "output_type": "stream",
          "name": "stdout",
          "text": [
            "The accuracy of our model bassed on validation data is 0.722.\n"
          ]
        }
      ]
    },
    {
      "cell_type": "markdown",
      "source": [
        "### Make predicitons using our baseline model"
      ],
      "metadata": {
        "id": "tyII34XlCObT"
      }
    },
    {
      "cell_type": "code",
      "source": [
        "# returns an array of numerical labels \n",
        "baseline_preds = model_0.predict(val_sentences)\n",
        "baseline_preds"
      ],
      "metadata": {
        "colab": {
          "base_uri": "https://localhost:8080/"
        },
        "id": "y50kGIkPCd7-",
        "outputId": "fccbba51-368e-4c1f-e414-3ee7ca2bebb3"
      },
      "execution_count": 269,
      "outputs": [
        {
          "output_type": "execute_result",
          "data": {
            "text/plain": [
              "array([4, 1, 3, ..., 4, 4, 1])"
            ]
          },
          "metadata": {},
          "execution_count": 269
        }
      ]
    },
    {
      "cell_type": "code",
      "source": [
        "# check val_labels_encoded\n",
        "val_labels_encoded"
      ],
      "metadata": {
        "colab": {
          "base_uri": "https://localhost:8080/"
        },
        "id": "Vrk7t0GjDEWj",
        "outputId": "cb94da10-b87a-434d-d4eb-8e1cd8a26353"
      },
      "execution_count": 270,
      "outputs": [
        {
          "output_type": "execute_result",
          "data": {
            "text/plain": [
              "array([0, 0, 3, ..., 4, 1, 1])"
            ]
          },
          "metadata": {},
          "execution_count": 270
        }
      ]
    },
    {
      "cell_type": "markdown",
      "source": [
        "### 🧤 Helper Function: calculate_results()\n",
        "\n",
        "*   Calculates model accuracy, precision, recall, and f1 score of a binary classsification model."
      ],
      "metadata": {
        "id": "Cs6U53rrDlz0"
      }
    },
    {
      "cell_type": "code",
      "source": [
        "from sklearn.metrics import accuracy_score, precision_recall_fscore_support\n",
        "\n",
        "def calculate_results(y_true, y_pred):\n",
        "    \"\"\"\n",
        "    Calculates model accuracy, precision, recall, and f1 score of a binary classsification model.\n",
        "\n",
        "    Args:\n",
        "        y_true: true labels in the form of a 1d array.\n",
        "        y_pred: predicted labels in the form of a 1d array.\n",
        "\n",
        "    Returns a dictionary of accuracy, precision, recall, and f1-score.\n",
        "    \"\"\"\n",
        "    # Calculate model_accuracy\n",
        "    model_accuracy = accuracy_score(y_true,y_pred)*100\n",
        "    # Calculate model_precision, recall, and f1-score using weighted average\n",
        "    model_precision, model_recall, model_f1, _ = precision_recall_fscore_support(y_true, y_pred, average=\"weighted\")\n",
        "    model_results = {\"accuracy\":model_accuracy,\n",
        "                     \"precision\": model_precision,\n",
        "                     \"model_recall\": model_recall,\n",
        "                     \"model_f1\": model_f1}\n",
        "    return model_results\n"
      ],
      "metadata": {
        "id": "dD7g3vZIFsfU"
      },
      "execution_count": 271,
      "outputs": []
    },
    {
      "cell_type": "markdown",
      "source": [
        "### Calculate baseline results"
      ],
      "metadata": {
        "id": "NMMeYmwHY23r"
      }
    },
    {
      "cell_type": "code",
      "source": [
        "# Calculate baseline results\n",
        "baseline_results = calculate_results(y_true=val_labels_encoded,\n",
        "                                         y_pred=baseline_preds)\n",
        "for k, v in baseline_results.items():\n",
        "    print(k, '=', round(v,3))"
      ],
      "metadata": {
        "colab": {
          "base_uri": "https://localhost:8080/"
        },
        "id": "0s1Zj2sBY9Tv",
        "outputId": "fa9d03e7-246e-4d95-98a6-2fabac45fa7e"
      },
      "execution_count": 272,
      "outputs": [
        {
          "output_type": "stream",
          "name": "stdout",
          "text": [
            "accuracy = 72.183\n",
            "precision = 0.719\n",
            "model_recall = 0.722\n",
            "model_f1 = 0.699\n"
          ]
        }
      ]
    },
    {
      "cell_type": "markdown",
      "source": [
        "## Model 1 - Conv1d"
      ],
      "metadata": {
        "id": "mabSKPhAafQR"
      }
    },
    {
      "cell_type": "markdown",
      "source": [
        "### Preparing our data (the text) for deep sequence models"
      ],
      "metadata": {
        "id": "YhtshYl4al0n"
      }
    },
    {
      "cell_type": "markdown",
      "source": [
        "#### Create Vectorization and Embedding Layers - Preparation"
      ],
      "metadata": {
        "id": "YD40uWDQbKmz"
      }
    },
    {
      "cell_type": "code",
      "source": [
        "#import necessary libraries\n",
        "import numpy as np\n",
        "import tensorflow as tf\n",
        "from tensorflow.keras import layers"
      ],
      "metadata": {
        "id": "WMIkxmasbf64"
      },
      "execution_count": 273,
      "outputs": []
    },
    {
      "cell_type": "code",
      "source": [
        "#how long is each sentence on average\n",
        "# the following takes a list of sentences(train_sentences) and splits it to token level\n",
        "sent_lens = [len(sentence.split()) for sentence in train_sentences]\n",
        "avg_sent_len = round(np.mean(sent_lens),2)\n",
        "print(f\" Our average sentence length is {avg_sent_len} words.\")\n",
        "                 "
      ],
      "metadata": {
        "colab": {
          "base_uri": "https://localhost:8080/"
        },
        "id": "iwGnh00PcWSN",
        "outputId": "12c69e21-06a8-4f97-e29d-2455578e5ab1"
      },
      "execution_count": 274,
      "outputs": [
        {
          "output_type": "stream",
          "name": "stdout",
          "text": [
            " Our average sentence length is 26.34 words.\n"
          ]
        }
      ]
    },
    {
      "cell_type": "markdown",
      "source": [
        "The average tells you how long and whether you need to pad or truncate"
      ],
      "metadata": {
        "id": "3u98vw4Edudt"
      }
    },
    {
      "cell_type": "code",
      "source": [
        "# Check the distribution\n",
        "import matplotlib.pyplot as plt\n",
        "plt.hist(sent_lens, bins=100)"
      ],
      "metadata": {
        "colab": {
          "base_uri": "https://localhost:8080/",
          "height": 632
        },
        "id": "Tlf-eBBfdoWh",
        "outputId": "4d9a1918-7276-4f33-e1d6-84005fb6f900"
      },
      "execution_count": 275,
      "outputs": [
        {
          "output_type": "execute_result",
          "data": {
            "text/plain": [
              "(array([1.1050e+03, 3.5170e+03, 7.7850e+03, 1.3079e+04, 1.6589e+04,\n",
              "        1.8463e+04, 1.8770e+04, 1.7656e+04, 1.5580e+04, 1.3302e+04,\n",
              "        1.1002e+04, 9.0040e+03, 7.0390e+03, 5.5540e+03, 4.2780e+03,\n",
              "        3.3890e+03, 2.7020e+03, 2.1960e+03, 1.7050e+03, 9.5300e+02,\n",
              "        1.1780e+03, 9.0000e+02, 7.5000e+02, 6.0900e+02, 4.9400e+02,\n",
              "        4.0100e+02, 3.5000e+02, 2.5000e+02, 2.2900e+02, 2.1500e+02,\n",
              "        1.6700e+02, 1.2600e+02, 1.0200e+02, 1.0100e+02, 6.4000e+01,\n",
              "        6.1000e+01, 5.5000e+01, 4.5000e+01, 4.0000e+01, 2.5000e+01,\n",
              "        2.5000e+01, 2.4000e+01, 2.2000e+01, 1.4000e+01, 1.6000e+01,\n",
              "        1.0000e+01, 7.0000e+00, 1.6000e+01, 7.0000e+00, 5.0000e+00,\n",
              "        3.0000e+00, 5.0000e+00, 5.0000e+00, 6.0000e+00, 1.0000e+00,\n",
              "        3.0000e+00, 1.0000e+00, 4.0000e+00, 4.0000e+00, 0.0000e+00,\n",
              "        3.0000e+00, 0.0000e+00, 1.0000e+00, 2.0000e+00, 3.0000e+00,\n",
              "        3.0000e+00, 0.0000e+00, 2.0000e+00, 4.0000e+00, 1.0000e+00,\n",
              "        0.0000e+00, 3.0000e+00, 2.0000e+00, 1.0000e+00, 0.0000e+00,\n",
              "        0.0000e+00, 0.0000e+00, 2.0000e+00, 0.0000e+00, 0.0000e+00,\n",
              "        0.0000e+00, 1.0000e+00, 1.0000e+00, 1.0000e+00, 0.0000e+00,\n",
              "        0.0000e+00, 0.0000e+00, 0.0000e+00, 0.0000e+00, 0.0000e+00,\n",
              "        0.0000e+00, 0.0000e+00, 1.0000e+00, 0.0000e+00, 0.0000e+00,\n",
              "        0.0000e+00, 0.0000e+00, 0.0000e+00, 0.0000e+00, 1.0000e+00]),\n",
              " array([  1.  ,   3.95,   6.9 ,   9.85,  12.8 ,  15.75,  18.7 ,  21.65,\n",
              "         24.6 ,  27.55,  30.5 ,  33.45,  36.4 ,  39.35,  42.3 ,  45.25,\n",
              "         48.2 ,  51.15,  54.1 ,  57.05,  60.  ,  62.95,  65.9 ,  68.85,\n",
              "         71.8 ,  74.75,  77.7 ,  80.65,  83.6 ,  86.55,  89.5 ,  92.45,\n",
              "         95.4 ,  98.35, 101.3 , 104.25, 107.2 , 110.15, 113.1 , 116.05,\n",
              "        119.  , 121.95, 124.9 , 127.85, 130.8 , 133.75, 136.7 , 139.65,\n",
              "        142.6 , 145.55, 148.5 , 151.45, 154.4 , 157.35, 160.3 , 163.25,\n",
              "        166.2 , 169.15, 172.1 , 175.05, 178.  , 180.95, 183.9 , 186.85,\n",
              "        189.8 , 192.75, 195.7 , 198.65, 201.6 , 204.55, 207.5 , 210.45,\n",
              "        213.4 , 216.35, 219.3 , 222.25, 225.2 , 228.15, 231.1 , 234.05,\n",
              "        237.  , 239.95, 242.9 , 245.85, 248.8 , 251.75, 254.7 , 257.65,\n",
              "        260.6 , 263.55, 266.5 , 269.45, 272.4 , 275.35, 278.3 , 281.25,\n",
              "        284.2 , 287.15, 290.1 , 293.05, 296.  ]),\n",
              " <a list of 100 Patch objects>)"
            ]
          },
          "metadata": {},
          "execution_count": 275
        },
        {
          "output_type": "display_data",
          "data": {
            "text/plain": [
              "<Figure size 432x288 with 1 Axes>"
            ],
            "image/png": "[encoded data removed]"
          },
          "metadata": {
            "needs_background": "light"
          }
        }
      ]
    },
    {
      "cell_type": "code",
      "source": [
        "#use numpy.percentile - how long of a sentence length covers 95% of example - \n",
        "#use this to decide where to truncate/pad\n",
        "output_seq_length = int(np.percentile(sent_lens, 95))\n",
        "print(f\"The length of sentence which covers 95% of our samples: {output_seq_length}.\")"
      ],
      "metadata": {
        "id": "IYa_hbUDeUAm",
        "colab": {
          "base_uri": "https://localhost:8080/"
        },
        "outputId": "365dc8a4-1e1e-48e7-fcd1-a73786c05224"
      },
      "execution_count": 276,
      "outputs": [
        {
          "output_type": "stream",
          "name": "stdout",
          "text": [
            "The length of sentence which covers 95% of our samples: 55.\n"
          ]
        }
      ]
    },
    {
      "cell_type": "markdown",
      "source": [
        "Use 55 as length for sentences"
      ],
      "metadata": {
        "id": "9y4JA9sxfXzU"
      }
    },
    {
      "cell_type": "code",
      "source": [
        "# check max, min, mean, median length\n",
        "print(f\" Maximum sentence length = {max(sent_lens)}\\n\",\n",
        "      f\"Minimum sentence length = {min(sent_lens)}\\n\", \n",
        "      f\"Average sentence length = {round(np.mean(sent_lens), 2)}\\n\",\n",
        "      f\"Median sentence length = {np.median(sent_lens)}\")"
      ],
      "metadata": {
        "colab": {
          "base_uri": "https://localhost:8080/"
        },
        "id": "d2uATXTseipV",
        "outputId": "d72ac69f-fb09-4a70-ad16-57dcbcf3829a"
      },
      "execution_count": 277,
      "outputs": [
        {
          "output_type": "stream",
          "name": "stdout",
          "text": [
            " Maximum sentence length = 296\n",
            " Minimum sentence length = 1\n",
            " Average sentence length = 26.34\n",
            " Median sentence length = 23.0\n"
          ]
        }
      ]
    },
    {
      "cell_type": "markdown",
      "source": [
        "296 words in max sentence length.\n",
        "Can't use 296 as that is too long for our analysis - most data will be padded and that won't be an efficient use of computing power.  55 will cover 95% of sentences"
      ],
      "metadata": {
        "id": "vVdH5iIhfhEB"
      }
    },
    {
      "cell_type": "markdown",
      "source": [
        "#### Create text vectorizer layer\n",
        "The documentation for the keras text vectorizer:\n",
        "https://keras.io/api/layers/preprocessing_layers/core_preprocessing_layers/text_vectorization/"
      ],
      "metadata": {
        "id": "5-imqdRBGT8y"
      }
    },
    {
      "cell_type": "code",
      "source": [
        "#create the text vectorizer\n",
        "#max_tokens is the most common vocab out of your set (everything else is OOV - out of vocabulary)\n",
        "#the paper tells us that the max voc size is 60,000 \n",
        "#taken from table 2 in http://arvix.org/pdf/1710.06071.pdf\n",
        "max_tokens = 68000\n",
        "\n",
        "from tensorflow.keras.layers.experimental.preprocessing import TextVectorization\n",
        "\n",
        "text_vectorizer = TextVectorization(max_tokens=max_tokens,\n",
        "                                    output_sequence_length = output_seq_length,\n",
        "                                    pad_to_max_tokens=True\n",
        "                                    )\n",
        "# max_tokens = number of words in vocabulary (obtained from paper)\n",
        "# output_sequence_length is the sentence length that we determined earlier(55)\n",
        "# which will cover 95% of sentences\n",
        "# leave other parameterss as default"
      ],
      "metadata": {
        "id": "FVQEW-bIGzaZ"
      },
      "execution_count": 278,
      "outputs": []
    },
    {
      "cell_type": "markdown",
      "source": [
        "#### Adapt text vectorizer to training data"
      ],
      "metadata": {
        "id": "eiK4NfbVJ2_-"
      }
    },
    {
      "cell_type": "code",
      "source": [
        "#adapt only train data and later fit val and test data\n",
        "text_vectorizer.adapt(train_sentences)"
      ],
      "metadata": {
        "id": "r2EcQtAVJ6-f"
      },
      "execution_count": 279,
      "outputs": []
    },
    {
      "cell_type": "markdown",
      "source": [
        "#### Let's test out text Vectorizer\n"
      ],
      "metadata": {
        "id": "K65qxZt0KonS"
      }
    },
    {
      "cell_type": "code",
      "source": [
        "#lets test out text vectorizer\n",
        "import random\n",
        "target_sentence = random.choice(train_sentences)\n",
        "print(f\"Text:\\n{target_sentence}\")\n",
        "print(f\"\\nLength of text: {len(target_sentence.split())}\") # Need to get .split() as it maps words, otherwise it will give length of characters\n",
        "print(f\"\\nVectorized text: {text_vectorizer([target_sentence])}\")\n"
      ],
      "metadata": {
        "colab": {
          "base_uri": "https://localhost:8080/"
        },
        "id": "9ecRVxyuKfqj",
        "outputId": "513ddf28-2253-4ea7-dbe9-b0c3542764f4"
      },
      "execution_count": 280,
      "outputs": [
        {
          "output_type": "stream",
          "name": "stdout",
          "text": [
            "Text:\n",
            "although non-experimental , this study will generate first large-scale data on the utility of imaging-enhancing algorithms in whole-body mdct for major blunt trauma .\n",
            "\n",
            "Length of text: 24\n",
            "\n",
            "Vectorized text: [[  311 25517    23    17    95  5440   152  4027   100    18     2  2049\n",
            "      4 55347  4608     5  4734  6635    11   347  6313  1564     0     0\n",
            "      0     0     0     0     0     0     0     0     0     0     0     0\n",
            "      0     0     0     0     0     0     0     0     0     0     0     0\n",
            "      0     0     0     0     0     0     0]]\n"
          ]
        }
      ]
    },
    {
      "cell_type": "markdown",
      "source": [
        "The above output, the vectorized array, maps words to their frequency (e.g. \"and\" is 3).  It drops punctuations and numbers.  The rest is padded with 0s up to 55."
      ],
      "metadata": {
        "id": "uwaQCSCGOERf"
      }
    },
    {
      "cell_type": "code",
      "source": [
        "#How many words in our training Vocabulary\n",
        "rct_20k_text_vocab = text_vectorizer.get_vocabulary()\n",
        "print(f\"Number of words in vocabulary : {len(rct_20k_text_vocab)}\")\n",
        "print(f\"Most common words : {rct_20k_text_vocab[:5]}\") #vectorizer automatically sorts by frequency\n",
        "print(f\"Least common words : {rct_20k_text_vocab[-5:]}\")"
      ],
      "metadata": {
        "colab": {
          "base_uri": "https://localhost:8080/"
        },
        "id": "qR9XN6xBOY_R",
        "outputId": "a7a50b9a-25a9-4b73-8331-704c7f5880b6"
      },
      "execution_count": 281,
      "outputs": [
        {
          "output_type": "stream",
          "name": "stdout",
          "text": [
            "Number of words in vocabulary : 64841\n",
            "Most common words : ['', '[UNK]', 'the', 'and', 'of']\n",
            "Least common words : ['aainduced', 'aaigroup', 'aachener', 'aachen', 'aaacp']\n"
          ]
        }
      ]
    },
    {
      "cell_type": "code",
      "source": [
        "#Get the config of our text vectorizer\n",
        "text_vectorizer.get_config()"
      ],
      "metadata": {
        "colab": {
          "base_uri": "https://localhost:8080/"
        },
        "id": "vS7bZep5Rd5V",
        "outputId": "1e522d73-ddbe-4ee9-c2d0-e4f8a485bcec"
      },
      "execution_count": 282,
      "outputs": [
        {
          "output_type": "execute_result",
          "data": {
            "text/plain": [
              "{'batch_input_shape': (None,),\n",
              " 'dtype': 'string',\n",
              " 'idf_weights': None,\n",
              " 'max_tokens': 68000,\n",
              " 'name': 'text_vectorization_3',\n",
              " 'ngrams': None,\n",
              " 'output_mode': 'int',\n",
              " 'output_sequence_length': 55,\n",
              " 'pad_to_max_tokens': True,\n",
              " 'ragged': False,\n",
              " 'sparse': False,\n",
              " 'split': 'whitespace',\n",
              " 'standardize': 'lower_and_strip_punctuation',\n",
              " 'trainable': True,\n",
              " 'vocabulary': None}"
            ]
          },
          "metadata": {},
          "execution_count": 282
        }
      ]
    },
    {
      "cell_type": "markdown",
      "source": [
        "#### Create custom text embedding"
      ],
      "metadata": {
        "id": "S86z32EEvU0g"
      }
    },
    {
      "cell_type": "code",
      "source": [
        "# Create token embedding layer\n",
        "# input-dim is the length of the vocab\n",
        "# output_dim - this is user set, multiple of 8 preferred\n",
        "# mask_zero - this masks zero padding to save space (when there are lots of zeros)\n",
        "token_embed = layers.Embedding(input_dim=len(rct_20k_text_vocab),\n",
        "                               output_dim=128,\n",
        "                               mask_zero=True\n",
        "                               )"
      ],
      "metadata": {
        "id": "Cj2AO4vlvZ93"
      },
      "execution_count": 283,
      "outputs": []
    },
    {
      "cell_type": "markdown",
      "source": [
        "####Show embedding as an example with a random sentence\n"
      ],
      "metadata": {
        "id": "aw7HxLspxw0a"
      }
    },
    {
      "cell_type": "code",
      "source": [
        "print(f\"Sentence before vectorization:\\n{target_sentence}\")\n",
        "vectorized_sentence = text_vectorizer([target_sentence])\n",
        "print(f\"Sentence after vectorization (before embedding):\\n {vectorized_sentence}\")\n",
        "embedded_sentence = token_embed(vectorized_sentence)\n",
        "print(f\"Sentence after embedding:\\n {embedded_sentence}\")\n",
        "print(f\"Embedded sentence shape:\\n {embedded_sentence.shape}\")\n"
      ],
      "metadata": {
        "colab": {
          "base_uri": "https://localhost:8080/"
        },
        "id": "qvQj4UyGxzxY",
        "outputId": "667f3fe8-64be-4ac3-9e54-1161d8974614"
      },
      "execution_count": 284,
      "outputs": [
        {
          "output_type": "stream",
          "name": "stdout",
          "text": [
            "Sentence before vectorization:\n",
            "although non-experimental , this study will generate first large-scale data on the utility of imaging-enhancing algorithms in whole-body mdct for major blunt trauma .\n",
            "Sentence after vectorization (before embedding):\n",
            " [[  311 25517    23    17    95  5440   152  4027   100    18     2  2049\n",
            "      4 55347  4608     5  4734  6635    11   347  6313  1564     0     0\n",
            "      0     0     0     0     0     0     0     0     0     0     0     0\n",
            "      0     0     0     0     0     0     0     0     0     0     0     0\n",
            "      0     0     0     0     0     0     0]]\n",
            "Sentence after embedding:\n",
            " [[[ 0.00693591 -0.00742729 -0.04459256 ... -0.03230357  0.03983481\n",
            "    0.0173936 ]\n",
            "  [-0.01231196 -0.04992813 -0.04221689 ...  0.03938358 -0.00787685\n",
            "    0.03249088]\n",
            "  [-0.03342295  0.00976484  0.0322472  ...  0.01249125 -0.04069443\n",
            "   -0.02671367]\n",
            "  ...\n",
            "  [ 0.0454901  -0.0359956  -0.04036741 ... -0.03350518 -0.02188538\n",
            "    0.02923382]\n",
            "  [ 0.0454901  -0.0359956  -0.04036741 ... -0.03350518 -0.02188538\n",
            "    0.02923382]\n",
            "  [ 0.0454901  -0.0359956  -0.04036741 ... -0.03350518 -0.02188538\n",
            "    0.02923382]]]\n",
            "Embedded sentence shape:\n",
            " (1, 55, 128)\n"
          ]
        }
      ]
    },
    {
      "cell_type": "markdown",
      "source": [
        "####Create a fast loading dataset\n",
        "Making sure the data loads as fast as possible.  Two guides:\n",
        "*   https://www.tensorflow.org/guide/data_performance\n",
        "*   https://www.tensorflow.org/guide/data\n",
        "\n"
      ],
      "metadata": {
        "id": "cMgxJ7Oq0tOg"
      }
    },
    {
      "cell_type": "markdown",
      "source": [
        "##### Turn our data into Tensorflow dataset"
      ],
      "metadata": {
        "id": "79x2GxCu5HYN"
      }
    },
    {
      "cell_type": "code",
      "source": [
        "train_dataset = tf.data.Dataset.from_tensor_slices((train_sentences, train_labels_one_hot))\n",
        "val_dataset = tf.data.Dataset.from_tensor_slices((val_sentences, val_labels_one_hot))\n",
        "test_dataset = tf.data.Dataset.from_tensor_slices((test_sentences, test_labels_one_hot))\n",
        "\n",
        "train_dataset"
      ],
      "metadata": {
        "colab": {
          "base_uri": "https://localhost:8080/"
        },
        "id": "doGXVc2b0yCL",
        "outputId": "ea375778-a258-47df-e18b-d829a4794d74"
      },
      "execution_count": 285,
      "outputs": [
        {
          "output_type": "execute_result",
          "data": {
            "text/plain": [
              "<TensorSliceDataset element_spec=(TensorSpec(shape=(), dtype=tf.string, name=None), TensorSpec(shape=(5,), dtype=tf.float64, name=None))>"
            ]
          },
          "metadata": {},
          "execution_count": 285
        }
      ]
    },
    {
      "cell_type": "code",
      "source": [
        "#as a review, lets look at our train_labels_one_hot\n",
        "train_labels_one_hot.shape, train_labels_one_hot[0]"
      ],
      "metadata": {
        "colab": {
          "base_uri": "https://localhost:8080/"
        },
        "id": "gbzBrtby66vz",
        "outputId": "fce43630-5c02-4f67-efec-47e477223386"
      },
      "execution_count": 286,
      "outputs": [
        {
          "output_type": "execute_result",
          "data": {
            "text/plain": [
              "((180040, 5), array([0., 0., 0., 1., 0.]))"
            ]
          },
          "metadata": {},
          "execution_count": 286
        }
      ]
    },
    {
      "cell_type": "markdown",
      "source": [
        "##### Take our datasets and turn them into prefetched datasets for improved performance\n",
        "\n",
        "✅ Need to read tf performance modules"
      ],
      "metadata": {
        "id": "n63NzzD_7_6p"
      }
    },
    {
      "cell_type": "code",
      "source": [
        "train_dataset = train_dataset.batch(32).prefetch(tf.data.AUTOTUNE)\n",
        "val_dataset = val_dataset.batch(32).prefetch(tf.data.AUTOTUNE)\n",
        "test_dataset = test_dataset.batch(32).prefetch(tf.data.AUTOTUNE)\n",
        "\n",
        "train_dataset"
      ],
      "metadata": {
        "colab": {
          "base_uri": "https://localhost:8080/"
        },
        "id": "mq7kbMM38GVZ",
        "outputId": "30e9bef9-4e3c-4c95-c46d-5354450de3ad"
      },
      "execution_count": 287,
      "outputs": [
        {
          "output_type": "execute_result",
          "data": {
            "text/plain": [
              "<PrefetchDataset element_spec=(TensorSpec(shape=(None,), dtype=tf.string, name=None), TensorSpec(shape=(None, 5), dtype=tf.float64, name=None))>"
            ]
          },
          "metadata": {},
          "execution_count": 287
        }
      ]
    },
    {
      "cell_type": "markdown",
      "source": [
        "### Building a Conv1d model with token embeddings"
      ],
      "metadata": {
        "id": "d7UJUYGq91R7"
      }
    },
    {
      "cell_type": "markdown",
      "source": [
        ""
      ],
      "metadata": {
        "id": "s-ldy3wO-IT9"
      }
    },
    {
      "cell_type": "markdown",
      "source": [
        ""
      ],
      "metadata": {
        "id": "DLER1JR7fuO5"
      }
    }
  ]
}